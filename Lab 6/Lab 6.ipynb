{
 "cells": [
  {
   "cell_type": "code",
   "execution_count": 1,
   "metadata": {},
   "outputs": [],
   "source": [
    "import pandas as pd\n",
    "import numpy as np\n",
    "import matplotlib.pyplot as plt\n",
    "import sklearn\n",
    "import math"
   ]
  },
  {
   "cell_type": "code",
   "execution_count": 3,
   "metadata": {},
   "outputs": [],
   "source": [
    "## Note that textfile containing these data uses a tab delimiter to separate the label and message\n",
    "sms = pd.read_csv(\"sms_spam.txt\", sep='\\t', names=['Label','Message'])\n",
    "\n",
    "## Train-test split\n",
    "from sklearn.model_selection import train_test_split\n",
    "train, test = train_test_split(sms, test_size=0.2, random_state=8)\n",
    "\n",
    "## Split outcome from predictors\n",
    "train_y = (train['Label'] == 'spam').astype(int)\n",
    "train_msg = train['Message']"
   ]
  },
  {
   "cell_type": "code",
   "execution_count": 4,
   "metadata": {},
   "outputs": [],
   "source": [
    "## Function to measure numbers\n",
    "def get_num(text):\n",
    "    return sum(map(str.isdigit, text))/len(text)\n",
    "\n",
    "## Define \"first_word\" function\n",
    "def first_word(text):\n",
    "    return text.split(sep=' ')[0].lower().replace('!','')\n",
    "\n",
    "## Recreate train_X using the new feature\n",
    "d = {'prop_num': train_msg.apply(get_num),\n",
    "    'first_word': train_msg.apply(first_word)}\n",
    "train_X = pd.DataFrame(d)\n",
    "\n",
    "## Apply OHE to the 'first' column and keep only \"urgent\" and \"free\"\n",
    "from pandas import get_dummies\n",
    "train_X_ohe = get_dummies(train_X, columns=['first_word'])\n",
    "train_X = train_X_ohe[['prop_num','first_word_urgent','first_word_free']]"
   ]
  },
  {
   "cell_type": "code",
   "execution_count": 7,
   "metadata": {},
   "outputs": [
    {
     "data": {
      "text/html": [
       "<div>\n",
       "<style scoped>\n",
       "    .dataframe tbody tr th:only-of-type {\n",
       "        vertical-align: middle;\n",
       "    }\n",
       "\n",
       "    .dataframe tbody tr th {\n",
       "        vertical-align: top;\n",
       "    }\n",
       "\n",
       "    .dataframe thead th {\n",
       "        text-align: right;\n",
       "    }\n",
       "</style>\n",
       "<table border=\"1\" class=\"dataframe\">\n",
       "  <thead>\n",
       "    <tr style=\"text-align: right;\">\n",
       "      <th></th>\n",
       "      <th>prop_num</th>\n",
       "      <th>first_word_urgent</th>\n",
       "      <th>first_word_free</th>\n",
       "    </tr>\n",
       "  </thead>\n",
       "  <tbody>\n",
       "    <tr>\n",
       "      <th>3922</th>\n",
       "      <td>0.017857</td>\n",
       "      <td>0</td>\n",
       "      <td>0</td>\n",
       "    </tr>\n",
       "    <tr>\n",
       "      <th>2559</th>\n",
       "      <td>0.000000</td>\n",
       "      <td>0</td>\n",
       "      <td>0</td>\n",
       "    </tr>\n",
       "    <tr>\n",
       "      <th>2672</th>\n",
       "      <td>0.000000</td>\n",
       "      <td>0</td>\n",
       "      <td>0</td>\n",
       "    </tr>\n",
       "    <tr>\n",
       "      <th>4282</th>\n",
       "      <td>0.006579</td>\n",
       "      <td>0</td>\n",
       "      <td>0</td>\n",
       "    </tr>\n",
       "    <tr>\n",
       "      <th>987</th>\n",
       "      <td>0.000000</td>\n",
       "      <td>0</td>\n",
       "      <td>0</td>\n",
       "    </tr>\n",
       "    <tr>\n",
       "      <th>...</th>\n",
       "      <td>...</td>\n",
       "      <td>...</td>\n",
       "      <td>...</td>\n",
       "    </tr>\n",
       "    <tr>\n",
       "      <th>2181</th>\n",
       "      <td>0.000000</td>\n",
       "      <td>0</td>\n",
       "      <td>0</td>\n",
       "    </tr>\n",
       "    <tr>\n",
       "      <th>2409</th>\n",
       "      <td>0.000000</td>\n",
       "      <td>0</td>\n",
       "      <td>0</td>\n",
       "    </tr>\n",
       "    <tr>\n",
       "      <th>2033</th>\n",
       "      <td>0.000000</td>\n",
       "      <td>0</td>\n",
       "      <td>0</td>\n",
       "    </tr>\n",
       "    <tr>\n",
       "      <th>1364</th>\n",
       "      <td>0.000000</td>\n",
       "      <td>0</td>\n",
       "      <td>0</td>\n",
       "    </tr>\n",
       "    <tr>\n",
       "      <th>4547</th>\n",
       "      <td>0.000000</td>\n",
       "      <td>0</td>\n",
       "      <td>0</td>\n",
       "    </tr>\n",
       "  </tbody>\n",
       "</table>\n",
       "<p>4457 rows × 3 columns</p>\n",
       "</div>"
      ],
      "text/plain": [
       "      prop_num  first_word_urgent  first_word_free\n",
       "3922  0.017857                  0                0\n",
       "2559  0.000000                  0                0\n",
       "2672  0.000000                  0                0\n",
       "4282  0.006579                  0                0\n",
       "987   0.000000                  0                0\n",
       "...        ...                ...              ...\n",
       "2181  0.000000                  0                0\n",
       "2409  0.000000                  0                0\n",
       "2033  0.000000                  0                0\n",
       "1364  0.000000                  0                0\n",
       "4547  0.000000                  0                0\n",
       "\n",
       "[4457 rows x 3 columns]"
      ]
     },
     "execution_count": 7,
     "metadata": {},
     "output_type": "execute_result"
    }
   ],
   "source": [
    "train_X"
   ]
  },
  {
   "cell_type": "code",
   "execution_count": 8,
   "metadata": {},
   "outputs": [
    {
     "data": {
      "image/png": "[encoded data removed]",
      "text/plain": [
       "<Figure size 640x480 with 1 Axes>"
      ]
     },
     "metadata": {},
     "output_type": "display_data"
    }
   ],
   "source": [
    "from sklearn.tree import DecisionTreeClassifier\n",
    "my_tree = DecisionTreeClassifier(max_depth = 2).fit(train_X, train_y)\n",
    "## Plot\n",
    "from sklearn.tree import plot_tree\n",
    "plot_tree(my_tree, feature_names=train_X.columns, class_names=True)\n",
    "plt.show()"
   ]
  },
  {
   "attachments": {},
   "cell_type": "markdown",
   "metadata": {},
   "source": [
    "#question 1\n",
    "#Part A) Notice that the final prediction for the two terminal nodes on the left side of the tree is \"not spam\", and the prediction for the rightmost two nodes is \"spam\". Does this mean that the second round of splits are inconsequential? Briefly explain."
   ]
  },
  {
   "attachments": {},
   "cell_type": "markdown",
   "metadata": {},
   "source": [
    "we found the second round of splits to be inconsequential because it does not help in further dividing the classes; \n",
    "the second round of splits is simply creating the subclasses for each classes. "
   ]
  },
  {
   "attachments": {},
   "cell_type": "markdown",
   "metadata": {},
   "source": [
    "#question 1\n",
    "#Part B)Verify that the gini impurity before any splits have occured is 0.2303647 (which was rounded in the plotted tree) by performing the calculation yourself using the value information in the tree."
   ]
  },
  {
   "cell_type": "code",
   "execution_count": 13,
   "metadata": {},
   "outputs": [
    {
     "name": "stdout",
     "output_type": "stream",
     "text": [
      "gini impurity is 0.23036470098514214\n"
     ]
    }
   ],
   "source": [
    "gini_impurity = (3865/4457)*(1-(3865/4457)) + (592/4457)*(1-(592/4457))\n",
    "print(f'gini impurity is {gini_impurity}')"
   ]
  },
  {
   "cell_type": "code",
   "execution_count": 14,
   "metadata": {},
   "outputs": [
    {
     "data": {
      "text/plain": [
       "array([[0.05251641, 0.94748359],\n",
       "       [0.40983607, 0.59016393],\n",
       "       [0.8119469 , 0.1880531 ],\n",
       "       [0.98910238, 0.01089762]])"
      ]
     },
     "execution_count": 14,
     "metadata": {},
     "output_type": "execute_result"
    }
   ],
   "source": [
    "#question 1\n",
    "#Part c)\n",
    "## Code for Part C\n",
    "pred_probs = my_tree.predict_proba(train_X)\n",
    "np.unique(pred_probs, axis=0)\n"
   ]
  },
  {
   "attachments": {},
   "cell_type": "markdown",
   "metadata": {},
   "source": [
    "the values of four unique rows correspond to the probability of the spam/non-spam for the four classes that we have as the result of our three splits. "
   ]
  },
  {
   "cell_type": "code",
   "execution_count": 17,
   "metadata": {},
   "outputs": [
    {
     "data": {
      "text/plain": [
       "array([[0.8119469 , 0.1880531 ],\n",
       "       [0.98910238, 0.01089762],\n",
       "       [0.98910238, 0.01089762],\n",
       "       ...,\n",
       "       [0.98910238, 0.01089762],\n",
       "       [0.98910238, 0.01089762],\n",
       "       [0.98910238, 0.01089762]])"
      ]
     },
     "execution_count": 17,
     "metadata": {},
     "output_type": "execute_result"
    }
   ],
   "source": [
    "pred_probs"
   ]
  },
  {
   "cell_type": "code",
   "execution_count": null,
   "metadata": {},
   "outputs": [],
   "source": []
  }
 ],
 "metadata": {
  "kernelspec": {
   "display_name": "Python 3",
   "language": "python",
   "name": "python3"
  },
  "language_info": {
   "codemirror_mode": {
    "name": "ipython",
    "version": 3
   },
   "file_extension": ".py",
   "mimetype": "text/x-python",
   "name": "python",
   "nbconvert_exporter": "python",
   "pygments_lexer": "ipython3",
   "version": "3.9.8"
  },
  "orig_nbformat": 4
 },
 "nbformat": 4,
 "nbformat_minor": 2
}
