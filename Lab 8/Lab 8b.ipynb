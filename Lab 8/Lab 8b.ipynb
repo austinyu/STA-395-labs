{
 "cells": [
  {
   "cell_type": "code",
   "execution_count": 1,
   "metadata": {},
   "outputs": [],
   "source": [
    "import torch\n",
    "import torchvision\n",
    "import numpy as np\n",
    "\n",
    "import pandas as pd\n",
    "import matplotlib.pyplot as plt\n",
    "\n",
    "import warnings\n",
    "warnings.filterwarnings('ignore') "
   ]
  },
  {
   "attachments": {},
   "cell_type": "markdown",
   "metadata": {},
   "source": [
    "1a. \n",
    "weight: $ 5 \\times 1 \\times 4 \\times 4 = 80$  \n",
    "bias: 5\n",
    "\n",
    "we have 5 channels in the feature maps. Each kernel has 4x4 dimension. We only have one channel in the input layer. \n",
    "\n",
    "1b.\n",
    "the dimension of each feature map is 13 by 13.\n",
    "since the input tensor's dimension was  $28 \\times 28$ and the stride was 2, the kernel will start scanning at index 0 and end at index 14 with a stride of 2. There are a total of 13 scans. "
   ]
  },
  {
   "cell_type": "code",
   "execution_count": 2,
   "metadata": {},
   "outputs": [
    {
     "name": "stdout",
     "output_type": "stream",
     "text": [
      "relu folloed by pool: tensor([[[[0.5450, 0.4600],\n",
      "          [0.4234, 0.5311]],\n",
      "\n",
      "         [[0.4706, 0.4658],\n",
      "          [0.4786, 0.6112]],\n",
      "\n",
      "         [[0.3787, 0.4014],\n",
      "          [0.3847, 0.5033]],\n",
      "\n",
      "         [[0.2382, 0.1635],\n",
      "          [0.0786, 0.1368]]]], grad_fn=<MaxPool2DWithIndicesBackward0>)\n",
      "pool folloed by relu: tensor([[[[0.5450, 0.4600],\n",
      "          [0.4234, 0.5311]],\n",
      "\n",
      "         [[0.4706, 0.4658],\n",
      "          [0.4786, 0.6112]],\n",
      "\n",
      "         [[0.3787, 0.4014],\n",
      "          [0.3847, 0.5033]],\n",
      "\n",
      "         [[0.2382, 0.1635],\n",
      "          [0.0786, 0.1368]]]], grad_fn=<ReluBackward0>)\n"
     ]
    },
    {
     "data": {
      "text/plain": [
       "tensor([True])"
      ]
     },
     "execution_count": 2,
     "metadata": {},
     "output_type": "execute_result"
    }
   ],
   "source": [
    "#2-a\n",
    "\n",
    "## Create random tensor to represent a 7x7 image with 3 channels\n",
    "random_tensor = torch.rand(1,3,7,7)\n",
    "\n",
    "## Use random_tensor as input into Conv2d\n",
    "from torch import nn\n",
    "trial_net = nn.Conv2d(in_channels=3, out_channels=4, kernel_size=3, stride=1)\n",
    "trial_output = trial_net(random_tensor)\n",
    "trial_relu = nn.ReLU()\n",
    "trial_relu_result = trial_relu(trial_output)\n",
    "\n",
    "trial_pool = nn.MaxPool2d(kernel_size = 2, stride = 2)\n",
    "trial_relu_pool = trial_pool(trial_relu_result)\n",
    "\n",
    "trial_pool_result = trial_pool(trial_output)\n",
    "trial_pool_relu = trial_relu(trial_pool_result)\n",
    "\n",
    "print(f'relu folloed by pool: {trial_relu_pool}')\n",
    "print(f'pool folloed by relu: {trial_pool_relu}')\n",
    "(trial_relu_pool == trial_pool_relu).unique()\n"
   ]
  },
  {
   "attachments": {},
   "cell_type": "markdown",
   "metadata": {},
   "source": [
    "The resulting feature map is independent of the order of max pooling and relu activation. "
   ]
  },
  {
   "cell_type": "code",
   "execution_count": 3,
   "metadata": {},
   "outputs": [
    {
     "name": "stdout",
     "output_type": "stream",
     "text": [
      "relu folloed by pool: tensor([[[[0.3347, 0.2760],\n",
      "          [0.2720, 0.2697]],\n",
      "\n",
      "         [[0.3260, 0.3789],\n",
      "          [0.3479, 0.4290]],\n",
      "\n",
      "         [[0.1050, 0.2012],\n",
      "          [0.1987, 0.2595]],\n",
      "\n",
      "         [[0.1656, 0.0522],\n",
      "          [0.0507, 0.0657]]]], grad_fn=<AvgPool2DBackward0>)\n",
      "pool folloed by relu: tensor([[[[0.3347, 0.2512],\n",
      "          [0.2503, 0.2412]],\n",
      "\n",
      "         [[0.3260, 0.3789],\n",
      "          [0.3479, 0.4290]],\n",
      "\n",
      "         [[0.0354, 0.2012],\n",
      "          [0.1349, 0.2328]],\n",
      "\n",
      "         [[0.1656, 0.0000],\n",
      "          [0.0201, 0.0000]]]], grad_fn=<ReluBackward0>)\n"
     ]
    },
    {
     "data": {
      "text/plain": [
       "tensor([False,  True])"
      ]
     },
     "execution_count": 3,
     "metadata": {},
     "output_type": "execute_result"
    }
   ],
   "source": [
    "#2-b\n",
    "trial_relu = nn.ReLU()\n",
    "trial_relu_result = trial_relu(trial_output)\n",
    "\n",
    "trial_pool = nn.AvgPool2d(kernel_size = 2, stride = 2)\n",
    "trial_relu_pool = trial_pool(trial_relu_result)\n",
    "\n",
    "trial_pool_result = trial_pool(trial_output)\n",
    "trial_pool_relu = trial_relu(trial_pool_result)\n",
    "\n",
    "print(f'relu folloed by pool: {trial_relu_pool}')\n",
    "print(f'pool folloed by relu: {trial_pool_relu}')\n",
    "(trial_relu_pool == trial_pool_relu).unique()"
   ]
  },
  {
   "attachments": {},
   "cell_type": "markdown",
   "metadata": {},
   "source": [
    "these result are not same with the result we observedin part A when we use average pooling. "
   ]
  },
  {
   "attachments": {},
   "cell_type": "markdown",
   "metadata": {},
   "source": [
    "3-1\n",
    "\n",
    "the dimension of the output tensor produced is [1, 10, 25, 25]\n",
    "\n",
    "the dimenion after  nn.ReLU(): [1, 10, 25, 25]\n",
    "\n",
    "the dimension after nn.MaxPool2d(2,2): [1, 10, 12, 12]\n",
    "\n",
    "3-2 \n",
    "\n",
    "No, because the linear layer has a weight that takes in the dimension 750. Only when we have an image with dimension 28x28, can we pass that layer of network. \n",
    "\n",
    "\n",
    "3-3 \n",
    "\n",
    "the dimensions of the output for each layer is labeled \n",
    "\n",
    "3-4 \n",
    "\n",
    "We can change 250 without requiring a new format of images. \n",
    "\n"
   ]
  },
  {
   "cell_type": "code",
   "execution_count": 4,
   "metadata": {},
   "outputs": [],
   "source": [
    "\n",
    "from torch import nn\n",
    "\n",
    "class my_net(nn.Module):\n",
    "    \n",
    "    ## Constructor commands\n",
    "    def __init__(self):\n",
    "        super(my_net, self).__init__()\n",
    "        \n",
    "        ## Define architecture\n",
    "        self.conv_stack = nn.Sequential( # [1, 1, 28, 28]]\n",
    "            nn.Conv2d(1, 10, 4, 1), # [1, 10, 25, 25]\n",
    "            nn.ReLU(), # [1, 10, 25, 25]\n",
    "            nn.MaxPool2d(2, 2), # [1, 10, 12, 12]\n",
    "            nn.Conv2d(10, 30, 2, 1), # [1, 30, 10, 10]\n",
    "            nn.ReLU(), # [1, 30, 10, 10]\n",
    "            nn.MaxPool2d(2, 2), # [1, 30, 5, 5]\n",
    "            nn.Flatten(), # [750]\n",
    "            nn.Linear(750, 250),\n",
    "            nn.ReLU(),\n",
    "            nn.Linear(250, 10)\n",
    "        )\n",
    "    \n",
    "    ## Function to generate predictions\n",
    "    def forward(self, x):\n",
    "        scores = self.conv_stack(x)\n",
    "        return scores"
   ]
  },
  {
   "cell_type": "code",
   "execution_count": 67,
   "metadata": {},
   "outputs": [],
   "source": [
    "# 4-a\n",
    "import os\n",
    "\n",
    "path = './cats_dogs/'\n",
    "img_names = os.listdir(path)\n",
    "img_names.sort()\n",
    "# img_names.remove('.DS_Store')\n",
    "images = np.empty(shape = (len(img_names), 64, 64, 3))\n",
    "for idx, name in enumerate(img_names):\n",
    "    img_name = path + name\n",
    "    # Use you favourite library to load the image\n",
    "    image = plt.imread(img_name)\n",
    "    images[idx] = image\n",
    "images = torch.from_numpy(images)\n",
    "images = torch.movedim(images, source = 3, destination = 1)\n",
    "\n",
    "classes = [1,0] \n",
    "\n",
    "## Repeat an appropriate number of times (print to check)\n",
    "labels = np.repeat(classes, [50, 100], axis=0)"
   ]
  },
  {
   "cell_type": "code",
   "execution_count": 68,
   "metadata": {},
   "outputs": [
    {
     "data": {
      "text/plain": [
       "torch.Size([150, 3, 64, 64])"
      ]
     },
     "execution_count": 68,
     "metadata": {},
     "output_type": "execute_result"
    }
   ],
   "source": [
    "images.shape"
   ]
  },
  {
   "cell_type": "code",
   "execution_count": 69,
   "metadata": {},
   "outputs": [],
   "source": [
    "from sklearn.model_selection import train_test_split\n",
    "train_X_image, test_X_image, train_y_image, test_y_image = train_test_split(images, labels, \n",
    "                                                                            test_size = 0.25, random_state = 5)"
   ]
  },
  {
   "cell_type": "code",
   "execution_count": 70,
   "metadata": {},
   "outputs": [],
   "source": [
    "#4 - b\n",
    "# Part B - Create a composition of data transformations that apply \n",
    "#   Gaussian blur, \n",
    "#   random horizontal flipping, \n",
    "#   and random rotation (between 0 and 180 degrees). You may consult the link at the end of the previous section for information on how to implement random rotation.\n",
    "\n",
    "## Compose Transformations\n",
    "from torchvision import transforms\n",
    "data_transforms = transforms.Compose([\n",
    "        transforms.GaussianBlur(kernel_size=(5,5), sigma=(0.1, 5)),\n",
    "        transforms.RandomHorizontalFlip(),\n",
    "        transforms.RandomRotation(degrees=(0, 180))\n",
    "])"
   ]
  },
  {
   "cell_type": "code",
   "execution_count": 71,
   "metadata": {},
   "outputs": [],
   "source": [
    "# 4-c\n",
    "from torch import nn\n",
    "\n",
    "class Cat_net(nn.Module):\n",
    "    \n",
    "    ## Constructor commands\n",
    "    def __init__(self):\n",
    "        super(Cat_net, self).__init__()\n",
    "        \n",
    "        ## Define architecture\n",
    "        self.conv_stack = nn.Sequential( # [N, 3, 64, 64]\n",
    "            nn.Conv2d(3, 8, 3, 1), # [N, 8, 62, 62]\n",
    "            nn.ReLU(),\n",
    "            nn.MaxPool2d(2,2), # [N, 8, 31, 31]\n",
    "            nn.Conv2d(8, 16, 2, 1), # [N, 16, 29, 29]\n",
    "            nn.ReLU(),\n",
    "            nn.MaxPool2d(2,2), # [N, 16, 15, 15]\n",
    "            nn.Flatten(),\n",
    "            nn.Linear(3600, 200),\n",
    "            nn.ReLU(),\n",
    "            nn.Linear(200, 2)\n",
    "        )\n",
    "    \n",
    "    ## Function to generate predictions\n",
    "    def forward(self, x):\n",
    "        scores = self.conv_stack(x)\n",
    "        return scores"
   ]
  },
  {
   "cell_type": "code",
   "execution_count": 72,
   "metadata": {},
   "outputs": [],
   "source": [
    "# 4-d\n",
    "## Hyperparms\n",
    "epochs = 300\n",
    "lrate = 0.001\n",
    "bsize = 28\n",
    "\n",
    "## For reproduction purposes \n",
    "torch.manual_seed(3)\n",
    "\n",
    "## Cost Function\n",
    "cost_fn = nn.CrossEntropyLoss()\n",
    "\n",
    "## Intialize the model\n",
    "net = Cat_net()\n",
    "\n",
    "## Optimizer (Stochastic Gradient Descent)\n",
    "optimizer = torch.optim.SGD(net.parameters(), lr = lrate)\n"
   ]
  },
  {
   "cell_type": "code",
   "execution_count": 79,
   "metadata": {},
   "outputs": [],
   "source": [
    "## Make DataLoader\n",
    "from torch.utils.data import DataLoader, TensorDataset\n",
    "train_y_tensor = torch.Tensor(train_y_image)\n",
    "train_loader = DataLoader(TensorDataset(train_X_image.type(torch.FloatTensor), \n",
    "                        train_y_tensor.type(torch.LongTensor)), batch_size=bsize)\n",
    "test_y_tensor = torch.Tensor(test_y_image)\n",
    "test_loader = DataLoader(TensorDataset(test_X_image.type(torch.FloatTensor), \n",
    "                        test_y_tensor.type(torch.LongTensor)), batch_size=bsize)\n",
    "                        "
   ]
  },
  {
   "cell_type": "code",
   "execution_count": 74,
   "metadata": {},
   "outputs": [],
   "source": [
    "## Re-run the training loop, notice the new data_transforms() command\n",
    "track_cost = np.zeros(epochs)\n",
    "\n",
    "for epoch in range(epochs):\n",
    "    cur_cost = 0.0\n",
    "    \n",
    "    for i, data in enumerate(train_loader, 0):\n",
    "        inputs, labels = data\n",
    "        \n",
    "        ## Transform the input data using our data augmentation strategies\n",
    "        inputs = data_transforms(inputs)\n",
    "        \n",
    "        ## Same as before\n",
    "        optimizer.zero_grad()\n",
    "        outputs = net(inputs)\n",
    "        cost = cost_fn(nn.Softmax(dim=1)(outputs), labels)\n",
    "        cost.backward()\n",
    "        optimizer.step()\n",
    "        cur_cost += cost.item()\n",
    "    \n",
    "    ## Store the accumulated cost at each epoch\n",
    "    track_cost[epoch] = cur_cost\n",
    "    # print(f\"Epoch: {epoch} Cost: {cur_cost}\") ## Uncomment this if you want printed updates"
   ]
  },
  {
   "cell_type": "code",
   "execution_count": 75,
   "metadata": {},
   "outputs": [
    {
     "data": {
      "image/png": "[encoded data removed]",
      "text/plain": [
       "<Figure size 640x480 with 1 Axes>"
      ]
     },
     "metadata": {},
     "output_type": "display_data"
    }
   ],
   "source": [
    "plt.plot(np.linspace(0, epochs, epochs), track_cost)\n",
    "plt.show()"
   ]
  },
  {
   "cell_type": "code",
   "execution_count": 76,
   "metadata": {},
   "outputs": [
    {
     "name": "stdout",
     "output_type": "stream",
     "text": [
      "test accuracy is 0.7321428571428571\n"
     ]
    }
   ],
   "source": [
    "train_correct = 0\n",
    "train_total = 0\n",
    "with torch.no_grad():\n",
    "    for data in train_loader:\n",
    "        images, labels = data\n",
    "        outputs = net(images)\n",
    "        _, predicted = torch.max(outputs.data, 1)\n",
    "        train_total += labels.size(0)\n",
    "        train_correct += (predicted == labels).sum().item()\n",
    "print(f'train accuracy is {train_correct / train_total}')"
   ]
  },
  {
   "cell_type": "code",
   "execution_count": 77,
   "metadata": {},
   "outputs": [
    {
     "name": "stdout",
     "output_type": "stream",
     "text": [
      "test accuracy is 0.7894736842105263\n"
     ]
    }
   ],
   "source": [
    "## Repeat evaluation loop suing the test data\n",
    "test_correct = 0\n",
    "test_total = 0\n",
    "with torch.no_grad():\n",
    "    for data in test_loader:\n",
    "        images, labels = data\n",
    "        outputs = net(images)\n",
    "        _, predicted = torch.max(outputs.data, 1)\n",
    "        test_total += labels.size(0)\n",
    "        test_correct += (predicted == labels).sum().item()\n",
    "print(f'test accuracy is {test_correct/test_total}')"
   ]
  },
  {
   "cell_type": "code",
   "execution_count": null,
   "metadata": {},
   "outputs": [],
   "source": []
  }
 ],
 "metadata": {
  "kernelspec": {
   "display_name": "Python 3",
   "language": "python",
   "name": "python3"
  },
  "language_info": {
   "codemirror_mode": {
    "name": "ipython",
    "version": 3
   },
   "file_extension": ".py",
   "mimetype": "text/x-python",
   "name": "python",
   "nbconvert_exporter": "python",
   "pygments_lexer": "ipython3",
   "version": "3.9.8"
  },
  "orig_nbformat": 4
 },
 "nbformat": 4,
 "nbformat_minor": 2
}
