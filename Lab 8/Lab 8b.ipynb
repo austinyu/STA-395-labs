{
 "cells": [
  {
   "cell_type": "code",
   "execution_count": 1,
   "metadata": {},
   "outputs": [],
   "source": [
    "import torch\n",
    "import torchvision\n",
    "import numpy as np\n",
    "\n",
    "import pandas as pd\n",
    "import matplotlib.pyplot as plt\n",
    "\n",
    "import warnings\n",
    "warnings.filterwarnings('ignore') "
   ]
  },
  {
   "attachments": {},
   "cell_type": "markdown",
   "metadata": {},
   "source": [
    "1a. \n",
    "weight: $ 5 \\times 1 \\times 4 \\times 4 = 80$  \n",
    "bias: 5\n",
    "\n",
    "we have 5 channels in the feature maps. Each kernel has 4x4 dimension. We only have one channel in the input layer. \n",
    "\n",
    "1b.\n",
    "the dimension of each feature map is 13 by 13.\n",
    "since the input tensor's dimension was  $28 \\times 28$ and the stride was 2, the kernel will start scanning at index 0 and end at index 14 with a stride of 2. There are a total of 13 scans. "
   ]
  },
  {
   "cell_type": "code",
   "execution_count": 8,
   "metadata": {},
   "outputs": [
    {
     "name": "stdout",
     "output_type": "stream",
     "text": [
      "relu folloed by pool: tensor([[[[0.0688, 0.0274],\n",
      "          [0.0000, 0.1710]],\n",
      "\n",
      "         [[0.0000, 0.0000],\n",
      "          [0.0000, 0.0000]],\n",
      "\n",
      "         [[0.0000, 0.0000],\n",
      "          [0.0000, 0.0000]],\n",
      "\n",
      "         [[0.3414, 0.4602],\n",
      "          [0.0498, 0.1573]]]], grad_fn=<MaxPool2DWithIndicesBackward0>)\n",
      "pool folloed by relu: tensor([[[[0.0688, 0.0274],\n",
      "          [0.0000, 0.1710]],\n",
      "\n",
      "         [[0.0000, 0.0000],\n",
      "          [0.0000, 0.0000]],\n",
      "\n",
      "         [[0.0000, 0.0000],\n",
      "          [0.0000, 0.0000]],\n",
      "\n",
      "         [[0.3414, 0.4602],\n",
      "          [0.0498, 0.1573]]]], grad_fn=<ReluBackward0>)\n"
     ]
    },
    {
     "data": {
      "text/plain": [
       "tensor([True])"
      ]
     },
     "execution_count": 8,
     "metadata": {},
     "output_type": "execute_result"
    }
   ],
   "source": [
    "#2-a\n",
    "\n",
    "## Create random tensor to represent a 7x7 image with 3 channels\n",
    "random_tensor = torch.rand(1,3,7,7)\n",
    "\n",
    "## Use random_tensor as input into Conv2d\n",
    "from torch import nn\n",
    "trial_net = nn.Conv2d(in_channels=3, out_channels=4, kernel_size=3, stride=1)\n",
    "trial_output = trial_net(random_tensor)\n",
    "trial_relu = nn.ReLU()\n",
    "trial_relu_result = trial_relu(trial_output)\n",
    "\n",
    "trial_pool = nn.MaxPool2d(kernel_size = 2, stride = 2)\n",
    "trial_relu_pool = trial_pool(trial_relu_result)\n",
    "\n",
    "trial_pool_result = trial_pool(trial_output)\n",
    "trial_pool_relu = trial_relu(trial_pool_result)\n",
    "\n",
    "print(f'relu folloed by pool: {trial_relu_pool}')\n",
    "print(f'pool folloed by relu: {trial_pool_relu}')\n",
    "(trial_relu_pool == trial_pool_relu).unique()\n"
   ]
  },
  {
   "attachments": {},
   "cell_type": "markdown",
   "metadata": {},
   "source": [
    "The resulting feature map is independent of the order of max pooling and relu activation. "
   ]
  },
  {
   "cell_type": "code",
   "execution_count": 9,
   "metadata": {},
   "outputs": [
    {
     "name": "stdout",
     "output_type": "stream",
     "text": [
      "relu folloed by pool: tensor([[[[0.0172, 0.0069],\n",
      "          [0.0000, 0.0910]],\n",
      "\n",
      "         [[0.0000, 0.0000],\n",
      "          [0.0000, 0.0000]],\n",
      "\n",
      "         [[0.0000, 0.0000],\n",
      "          [0.0000, 0.0000]],\n",
      "\n",
      "         [[0.1316, 0.1158],\n",
      "          [0.0202, 0.0543]]]], grad_fn=<AvgPool2DBackward0>)\n",
      "pool folloed by relu: tensor([[[[0.0000, 0.0000],\n",
      "          [0.0000, 0.0522]],\n",
      "\n",
      "         [[0.0000, 0.0000],\n",
      "          [0.0000, 0.0000]],\n",
      "\n",
      "         [[0.0000, 0.0000],\n",
      "          [0.0000, 0.0000]],\n",
      "\n",
      "         [[0.0493, 0.1114],\n",
      "          [0.0000, 0.0000]]]], grad_fn=<ReluBackward0>)\n"
     ]
    },
    {
     "data": {
      "text/plain": [
       "tensor([False,  True])"
      ]
     },
     "execution_count": 9,
     "metadata": {},
     "output_type": "execute_result"
    }
   ],
   "source": [
    "#2-b\n",
    "trial_relu = nn.ReLU()\n",
    "trial_relu_result = trial_relu(trial_output)\n",
    "\n",
    "trial_pool = nn.AvgPool2d(kernel_size = 2, stride = 2)\n",
    "trial_relu_pool = trial_pool(trial_relu_result)\n",
    "\n",
    "trial_pool_result = trial_pool(trial_output)\n",
    "trial_pool_relu = trial_relu(trial_pool_result)\n",
    "\n",
    "print(f'relu folloed by pool: {trial_relu_pool}')\n",
    "print(f'pool folloed by relu: {trial_pool_relu}')\n",
    "(trial_relu_pool == trial_pool_relu).unique()"
   ]
  },
  {
   "attachments": {},
   "cell_type": "markdown",
   "metadata": {},
   "source": [
    "these result are not same with the result we observedin part A when we use average pooling. "
   ]
  },
  {
   "attachments": {},
   "cell_type": "markdown",
   "metadata": {},
   "source": [
    "3-1\n",
    "\n",
    "the dimension of the output tensor produced is [1, 10, 25, 25]\n",
    "\n",
    "the dimenion after  nn.ReLU(): [1, 10, 25, 25]\n",
    "\n",
    "the dimension after nn.MaxPool2d(2,2): [1, 10, 12, 12]\n",
    "\n",
    "3-2 \n",
    "\n",
    "No, because the linear layer has a weight that takes in the dimension 750. Only when we have an image with dimension 28x28, can we pass that layer of network. \n",
    "\n",
    "\n",
    "3-3 \n",
    "\n",
    "the dimensions of the output for each layer is labeled \n",
    "\n",
    "3-4 \n",
    "\n",
    "We can change 250 without requiring a new format of images. \n",
    "\n"
   ]
  },
  {
   "cell_type": "code",
   "execution_count": 11,
   "metadata": {},
   "outputs": [],
   "source": [
    "\n",
    "from torch import nn\n",
    "\n",
    "class my_net(nn.Module):\n",
    "    \n",
    "    ## Constructor commands\n",
    "    def __init__(self):\n",
    "        super(my_net, self).__init__()\n",
    "        \n",
    "        ## Define architecture\n",
    "        self.conv_stack = nn.Sequential( # [1, 1, 28, 28]]\n",
    "            nn.Conv2d(1, 10, 4, 1), # [1, 10, 25, 25]\n",
    "            nn.ReLU(), # [1, 10, 25, 25]\n",
    "            nn.MaxPool2d(2, 2), # [1, 10, 12, 12]\n",
    "            nn.Conv2d(10, 30, 2, 1), # [1, 30, 10, 10]\n",
    "            nn.ReLU(), # [1, 30, 10, 10]\n",
    "            nn.MaxPool2d(2, 2), # [1, 30, 5, 5]\n",
    "            nn.Flatten(), # [750]\n",
    "            nn.Linear(750, 250),\n",
    "            nn.ReLU(),\n",
    "            nn.Linear(250, 10)\n",
    "        )\n",
    "    \n",
    "    ## Function to generate predictions\n",
    "    def forward(self, x):\n",
    "        scores = self.conv_stack(x)\n",
    "        return scores"
   ]
  },
  {
   "cell_type": "code",
   "execution_count": null,
   "metadata": {},
   "outputs": [],
   "source": []
  }
 ],
 "metadata": {
  "kernelspec": {
   "display_name": "Python 3",
   "language": "python",
   "name": "python3"
  },
  "language_info": {
   "codemirror_mode": {
    "name": "ipython",
    "version": 3
   },
   "file_extension": ".py",
   "mimetype": "text/x-python",
   "name": "python",
   "nbconvert_exporter": "python",
   "pygments_lexer": "ipython3",
   "version": "3.9.8"
  },
  "orig_nbformat": 4
 },
 "nbformat": 4,
 "nbformat_minor": 2
}
