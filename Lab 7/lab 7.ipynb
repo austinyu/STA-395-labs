{
 "cells": [
  {
   "cell_type": "code",
   "execution_count": 7,
   "metadata": {},
   "outputs": [],
   "source": [
    "import pandas as pd\n",
    "import numpy as np\n",
    "import matplotlib.pyplot as plt\n",
    "import sklearn\n",
    "import math\n",
    "\n",
    "## We'll ignore the warnings xgboost gives us\n",
    "import warnings\n",
    "warnings.filterwarnings('ignore') "
   ]
  },
  {
   "cell_type": "code",
   "execution_count": 8,
   "metadata": {},
   "outputs": [],
   "source": [
    "import xgboost as xgb"
   ]
  },
  {
   "cell_type": "code",
   "execution_count": 10,
   "metadata": {},
   "outputs": [],
   "source": [
    "### Read data\n",
    "wells = pd.read_csv(\"Wells.csv\")\n",
    "\n",
    "## Train-test split\n",
    "from sklearn.model_selection import train_test_split\n",
    "train, test = train_test_split(wells, test_size=0.1, random_state=9)\n",
    "\n",
    "### Separate the outcome and predictors\n",
    "train_y = (train['switch'] == 'yes').astype(int)\n",
    "train_X = train.drop(['switch', 'association'], axis=\"columns\")"
   ]
  },
  {
   "cell_type": "code",
   "execution_count": 6,
   "metadata": {},
   "outputs": [
    {
     "name": "stdout",
     "output_type": "stream",
     "text": [
      "Pipeline(steps=[('model',\n",
      "                 AdaBoostClassifier(estimator=DecisionTreeClassifier(max_depth=2),\n",
      "                                    learning_rate=0.1, n_estimators=100))])\n"
     ]
    },
    {
     "data": {
      "text/plain": [
       "0.6350131350882895"
      ]
     },
     "execution_count": 6,
     "metadata": {},
     "output_type": "execute_result"
    }
   ],
   "source": [
    "from sklearn.model_selection import GridSearchCV\n",
    "from sklearn.pipeline import Pipeline \n",
    "from sklearn.ensemble import AdaBoostClassifier\n",
    "from sklearn.tree import DecisionTreeClassifier\n",
    "\n",
    "pipe = Pipeline([\n",
    "    ('model', AdaBoostClassifier(estimator=DecisionTreeClassifier(max_depth=2), \n",
    "                                 n_estimators=100, learning_rate=1.2))\n",
    "])\n",
    "\n",
    "params = {'model__estimator': [DecisionTreeClassifier(max_depth=2),\n",
    "                              DecisionTreeClassifier(max_depth=3),\n",
    "                              DecisionTreeClassifier(max_depth=4)],\n",
    "         'model__learning_rate' : [0.1, 0.2, 0.3]\n",
    "        }\n",
    "\n",
    "grid = GridSearchCV(\n",
    "    pipe, params, cv = 5, scoring = 'accuracy').fit(train_X, train_y)\n",
    "print(grid.best_estimator_)\n",
    "grid.best_score_"
   ]
  },
  {
   "attachments": {},
   "cell_type": "markdown",
   "metadata": {},
   "source": [
    "optimal learning rate: 0,1, max_depth = 2, corresponding accuracy = 0.6350131350882895"
   ]
  },
  {
   "cell_type": "code",
   "execution_count": 41,
   "metadata": {},
   "outputs": [
    {
     "data": {
      "text/plain": [
       "array([0.57336548, 0.30655674, 0.12007778])"
      ]
     },
     "execution_count": 41,
     "metadata": {},
     "output_type": "execute_result"
    }
   ],
   "source": [
    "# 2-a\n",
    "from sklearn.model_selection import cross_val_score\n",
    "from sklearn.ensemble import GradientBoostingClassifier\n",
    "gb_mod = GradientBoostingClassifier(n_estimators=100, learning_rate=0.1, max_depth = 1)\n",
    "importance = gb_mod.fit(train_X, train_y).feature_importances_\n",
    "importance"
   ]
  },
  {
   "cell_type": "code",
   "execution_count": 36,
   "metadata": {},
   "outputs": [
    {
     "data": {
      "image/png": "[encoded data removed]",
      "text/plain": [
       "<Figure size 1000x500 with 1 Axes>"
      ]
     },
     "metadata": {},
     "output_type": "display_data"
    }
   ],
   "source": [
    "fig = plt.figure(figsize = (10, 5))\n",
    " \n",
    "# creating the bar plot\n",
    "plt.bar(train_X.columns, importance, color ='maroon',\n",
    "        width = 0.4)\n",
    " \n",
    "# plt.xlabel(\"Courses offered\")\n",
    "# plt.ylabel(\"No. of students enrolled\")\n",
    "# plt.title(\"Students enrolled in different courses\")\n",
    "plt.show()"
   ]
  },
  {
   "cell_type": "code",
   "execution_count": 40,
   "metadata": {},
   "outputs": [
    {
     "name": "stdout",
     "output_type": "stream",
     "text": [
      "[0.57425813 0.29045022 0.13529165]\n"
     ]
    }
   ],
   "source": [
    "gb_mod = GradientBoostingClassifier(n_estimators=100, learning_rate=0.1, max_depth = 1, max_features = 1)\n",
    "importance = gb_mod.fit(train_X, train_y).feature_importances_\n",
    "print(importance)"
   ]
  },
  {
   "attachments": {},
   "cell_type": "markdown",
   "metadata": {},
   "source": [
    "while there is a slight increase in importance for arsenic and education, the importance of distance decreased. When we set max_features to be 1, we are forcing every feature to participate in the model. "
   ]
  },
  {
   "cell_type": "code",
   "execution_count": 42,
   "metadata": {},
   "outputs": [
    {
     "name": "stdout",
     "output_type": "stream",
     "text": [
      "Pipeline(steps=[('model', GradientBoostingClassifier())])\n"
     ]
    },
    {
     "data": {
      "text/plain": [
       "0.6361235239952334"
      ]
     },
     "execution_count": 42,
     "metadata": {},
     "output_type": "execute_result"
    }
   ],
   "source": [
    "# 2c\n",
    "\n",
    "pipe = Pipeline([\n",
    "    ('model', None)\n",
    "])\n",
    "\n",
    "params = {'model': [GradientBoostingClassifier(n_estimators=100, learning_rate=0.1), # sample neither\n",
    "                   GradientBoostingClassifier(n_estimators=100, learning_rate=0.1, subsample = 1, max_features = 1), # sample features\n",
    "                   GradientBoostingClassifier(n_estimators=100, learning_rate=0.1, subsample = 0.5), # sample observations\n",
    "                   GradientBoostingClassifier(n_estimators=100, learning_rate=0.1, subsample = 0.5, max_features = 1)], # sample both\n",
    "        }\n",
    "\n",
    "grid = GridSearchCV(\n",
    "    pipe, params, cv = 5, scoring = 'accuracy').fit(train_X, train_y)\n",
    "print(grid.best_estimator_)\n",
    "grid.best_score_"
   ]
  },
  {
   "cell_type": "code",
   "execution_count": null,
   "metadata": {},
   "outputs": [],
   "source": []
  }
 ],
 "metadata": {
  "kernelspec": {
   "display_name": "Python 3",
   "language": "python",
   "name": "python3"
  },
  "language_info": {
   "codemirror_mode": {
    "name": "ipython",
    "version": 3
   },
   "file_extension": ".py",
   "mimetype": "text/x-python",
   "name": "python",
   "nbconvert_exporter": "python",
   "pygments_lexer": "ipython3",
   "version": "3.9.8"
  },
  "orig_nbformat": 4
 },
 "nbformat": 4,
 "nbformat_minor": 2
}
