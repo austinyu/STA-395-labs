{
 "cells": [
  {
   "cell_type": "code",
   "execution_count": 2,
   "metadata": {},
   "outputs": [],
   "source": [
    "import pandas as pd\n",
    "import numpy as np\n",
    "import matplotlib.pyplot as plt\n",
    "import sklearn\n",
    "import math\n",
    "\n",
    "## We'll ignore the warnings xgboost gives us\n",
    "import warnings\n",
    "warnings.filterwarnings('ignore') "
   ]
  },
  {
   "cell_type": "code",
   "execution_count": 3,
   "metadata": {},
   "outputs": [],
   "source": [
    "import xgboost as xgb"
   ]
  },
  {
   "cell_type": "code",
   "execution_count": 4,
   "metadata": {},
   "outputs": [],
   "source": [
    "### Read data\n",
    "wells = pd.read_csv(\"Wells.csv\")\n",
    "\n",
    "## Train-test split\n",
    "from sklearn.model_selection import train_test_split\n",
    "train, test = train_test_split(wells, test_size=0.1, random_state=9)\n",
    "\n",
    "### Separate the outcome and predictors\n",
    "train_y = (train['switch'] == 'yes').astype(int)\n",
    "train_X = train.drop(['switch', 'association'], axis=\"columns\")"
   ]
  },
  {
   "cell_type": "code",
   "execution_count": 5,
   "metadata": {},
   "outputs": [
    {
     "name": "stdout",
     "output_type": "stream",
     "text": [
      "Pipeline(steps=[('model',\n",
      "                 AdaBoostClassifier(estimator=DecisionTreeClassifier(max_depth=2),\n",
      "                                    learning_rate=0.1, n_estimators=100))])\n"
     ]
    },
    {
     "data": {
      "text/plain": [
       "0.6350131350882895"
      ]
     },
     "execution_count": 5,
     "metadata": {},
     "output_type": "execute_result"
    }
   ],
   "source": [
    "from sklearn.model_selection import GridSearchCV\n",
    "from sklearn.pipeline import Pipeline \n",
    "from sklearn.ensemble import AdaBoostClassifier\n",
    "from sklearn.tree import DecisionTreeClassifier\n",
    "\n",
    "pipe = Pipeline([\n",
    "    ('model', AdaBoostClassifier(estimator=DecisionTreeClassifier(max_depth=2), \n",
    "                                 n_estimators=100, learning_rate=1.2))\n",
    "])\n",
    "\n",
    "params = {'model__estimator': [DecisionTreeClassifier(max_depth=2),\n",
    "                              DecisionTreeClassifier(max_depth=3),\n",
    "                              DecisionTreeClassifier(max_depth=4)],\n",
    "         'model__learning_rate' : [0.1, 0.2, 0.3]\n",
    "        }\n",
    "\n",
    "grid = GridSearchCV(\n",
    "    pipe, params, cv = 5, scoring = 'accuracy').fit(train_X, train_y)\n",
    "print(grid.best_estimator_)\n",
    "grid.best_score_"
   ]
  },
  {
   "cell_type": "markdown",
   "metadata": {},
   "source": [
    "optimal learning rate: 0,1, max_depth = 2, corresponding accuracy = 0.6350131350882895"
   ]
  },
  {
   "cell_type": "code",
   "execution_count": 6,
   "metadata": {},
   "outputs": [
    {
     "data": {
      "text/plain": [
       "array([0.57336548, 0.30655674, 0.12007778])"
      ]
     },
     "execution_count": 6,
     "metadata": {},
     "output_type": "execute_result"
    }
   ],
   "source": [
    "# 2-a\n",
    "from sklearn.model_selection import cross_val_score\n",
    "from sklearn.ensemble import GradientBoostingClassifier\n",
    "gb_mod = GradientBoostingClassifier(n_estimators=100, learning_rate=0.1, max_depth = 1)\n",
    "importance = gb_mod.fit(train_X, train_y).feature_importances_\n",
    "importance"
   ]
  },
  {
   "cell_type": "code",
   "execution_count": 7,
   "metadata": {},
   "outputs": [
    {
     "data": {
      "image/png": "[encoded data removed]",
      "text/plain": [
       "<Figure size 1000x500 with 1 Axes>"
      ]
     },
     "metadata": {},
     "output_type": "display_data"
    }
   ],
   "source": [
    "fig = plt.figure(figsize = (10, 5))\n",
    " \n",
    "# creating the bar plot\n",
    "plt.bar(train_X.columns, importance, color ='maroon',\n",
    "        width = 0.4)\n",
    " \n",
    "# plt.xlabel(\"Courses offered\")\n",
    "# plt.ylabel(\"No. of students enrolled\")\n",
    "# plt.title(\"Students enrolled in different courses\")\n",
    "plt.show()"
   ]
  },
  {
   "cell_type": "code",
   "execution_count": 8,
   "metadata": {},
   "outputs": [
    {
     "name": "stdout",
     "output_type": "stream",
     "text": [
      "[0.58758208 0.28451113 0.1279068 ]\n"
     ]
    }
   ],
   "source": [
    "gb_mod = GradientBoostingClassifier(n_estimators=100, learning_rate=0.1, max_depth = 1, max_features = 1)\n",
    "importance = gb_mod.fit(train_X, train_y).feature_importances_\n",
    "print(importance)"
   ]
  },
  {
   "cell_type": "markdown",
   "metadata": {},
   "source": [
    "while there is a slight increase in importance for arsenic and education, the importance of distance decreased. When we set max_features to be 1, we are forcing every feature to participate in the model. "
   ]
  },
  {
   "cell_type": "code",
   "execution_count": 9,
   "metadata": {},
   "outputs": [
    {
     "name": "stdout",
     "output_type": "stream",
     "text": [
      "Pipeline(steps=[('model', GradientBoostingClassifier())])\n"
     ]
    },
    {
     "data": {
      "text/plain": [
       "0.6357558769364099"
      ]
     },
     "execution_count": 9,
     "metadata": {},
     "output_type": "execute_result"
    }
   ],
   "source": [
    "# 2c\n",
    "\n",
    "pipe = Pipeline([\n",
    "    ('model', None)\n",
    "])\n",
    "\n",
    "params = {'model': [GradientBoostingClassifier(n_estimators=100, learning_rate=0.1), # sample neither\n",
    "                   GradientBoostingClassifier(n_estimators=100, learning_rate=0.1, subsample = 1, max_features = 1), # sample features\n",
    "                   GradientBoostingClassifier(n_estimators=100, learning_rate=0.1, subsample = 0.5), # sample observations\n",
    "                   GradientBoostingClassifier(n_estimators=100, learning_rate=0.1, subsample = 0.5, max_features = 1)], # sample both\n",
    "        }\n",
    "\n",
    "grid = GridSearchCV(\n",
    "    pipe, params, cv = 5, scoring = 'accuracy').fit(train_X, train_y)\n",
    "print(grid.best_estimator_)\n",
    "grid.best_score_"
   ]
  },
  {
   "cell_type": "code",
   "execution_count": 119,
   "metadata": {},
   "outputs": [
    {
     "data": {
      "text/plain": [
       "{'ccp_alpha': 0.0,\n",
       " 'criterion': 'friedman_mse',\n",
       " 'init': None,\n",
       " 'learning_rate': 0.1,\n",
       " 'loss': 'log_loss',\n",
       " 'max_depth': 3,\n",
       " 'max_features': None,\n",
       " 'max_leaf_nodes': None,\n",
       " 'min_impurity_decrease': 0.0,\n",
       " 'min_samples_leaf': 1,\n",
       " 'min_samples_split': 2,\n",
       " 'min_weight_fraction_leaf': 0.0,\n",
       " 'n_estimators': 100,\n",
       " 'n_iter_no_change': None,\n",
       " 'random_state': None,\n",
       " 'subsample': 1.0,\n",
       " 'tol': 0.0001,\n",
       " 'validation_fraction': 0.1,\n",
       " 'verbose': 0,\n",
       " 'warm_start': False}"
      ]
     },
     "execution_count": 119,
     "metadata": {},
     "output_type": "execute_result"
    }
   ],
   "source": [
    "grid.best_estimator_.named_steps['model'].get_params()"
   ]
  },
  {
   "cell_type": "markdown",
   "metadata": {},
   "source": [
    "subsampling of neither yields the best classifier."
   ]
  },
  {
   "cell_type": "code",
   "execution_count": 161,
   "metadata": {},
   "outputs": [],
   "source": [
    "#3\n",
    "## Read the data\n",
    "ames = pd.read_csv(\"AmesHousing.csv\")\n",
    "\n",
    "## Train-test split\n",
    "from sklearn.model_selection import train_test_split\n",
    "train_ames, test_ames = train_test_split(ames, test_size=0.2, random_state=9)\n",
    "\n",
    "## Separate y and X\n",
    "train_ames_y = train_ames['SalePrice']\n",
    "train_ames_X = train_ames.drop('SalePrice', axis=1)\n",
    "\n",
    "test_ames_y = test_ames['SalePrice']\n",
    "test_ames_X = test_ames.drop('SalePrice', axis=1)\n",
    "\n",
    "## We'll remove any variables with more than 1000 missing values since they have too much missing data to reliably impute.\n",
    "train_ames_X = train_ames_X[train_ames_X.columns[train_ames_X.isna().sum() < 1000]]\n",
    "test_ames_X = test_ames_X[test_ames_X.columns[test_ames_X.isna().sum() < 1000]]\n",
    "\n",
    "## We'll also remove variables that shouldn't be used for prediction\n",
    "train_ames_X = train_ames_X.drop(['Order','PID','MS.SubClass', 'Yr.Sold','Mo.Sold'],axis=1)\n",
    "test_ames_X = test_ames_X.drop(['Order','PID','MS.SubClass', 'Yr.Sold','Mo.Sold'],axis=1)"
   ]
  },
  {
   "cell_type": "code",
   "execution_count": 162,
   "metadata": {},
   "outputs": [],
   "source": [
    "# get categorical and numerical columns \n",
    "\n",
    "categorical_columns = train_ames_X.select_dtypes(include='object').columns\n",
    "numerical_columns = train_ames_X.select_dtypes(include='number').columns"
   ]
  },
  {
   "cell_type": "code",
   "execution_count": 285,
   "metadata": {},
   "outputs": [],
   "source": [
    "from sklearn.preprocessing import OneHotEncoder\n",
    "from sklearn.pipeline import Pipeline \n",
    "from sklearn.compose import ColumnTransformer\n",
    "from sklearn.impute import KNNImputer \n",
    "from sklearn.preprocessing import PowerTransformer\n",
    "## Robust Scaling\n",
    "from sklearn.preprocessing import RobustScaler\n",
    "from sklearn.preprocessing import PolynomialFeatures\n",
    "\n",
    "## Seperate pipelines for numeric vs. cat vars\n",
    "num_transformer = Pipeline([(\"scaler\", RobustScaler()),\n",
    "                            ('transformer', PowerTransformer(method = 'yeo-johnson')),\n",
    "                            ('imputation', KNNImputer(missing_values = np.nan, \n",
    "                                                      n_neighbors = 100, weights = 'uniform'))\n",
    "                            ])\n",
    "cat_transformer = Pipeline([(\"encoder\", OneHotEncoder(sparse = False, handle_unknown = 'ignore'))])\n",
    "\n",
    "## Pre-processor\n",
    "preprocessor = ColumnTransformer([\n",
    "    ('num', num_transformer, numerical_columns),\n",
    "    ('cat', cat_transformer, categorical_columns)\n",
    "])\n",
    "\n",
    "## Final pipeline\n",
    "pipe = Pipeline([   \n",
    "    ('preprocessor', preprocessor),\n",
    "    ('model', xgb.XGBRegressor())\n",
    "])"
   ]
  },
  {
   "cell_type": "code",
   "execution_count": 296,
   "metadata": {},
   "outputs": [
    {
     "name": "stdout",
     "output_type": "stream",
     "text": [
      "Pipeline(steps=[('preprocessor',\n",
      "                 ColumnTransformer(transformers=[('num',\n",
      "                                                  Pipeline(steps=[('scaler',\n",
      "                                                                   RobustScaler()),\n",
      "                                                                  ('transformer',\n",
      "                                                                   PowerTransformer()),\n",
      "                                                                  ('imputation',\n",
      "                                                                   KNNImputer(n_neighbors=100))]),\n",
      "                                                  Index(['Lot.Frontage', 'Lot.Area', 'Overall.Qual', 'Overall.Cond',\n",
      "       'Year.Built', 'Year.Remod.Add', 'Mas.Vnr.Area', 'BsmtFin.SF.1',\n",
      "       'BsmtFin.SF.2', 'Bsmt.Unf.SF', 'Tota...\n",
      "                              feature_types=None, gamma=0, gpu_id=None,\n",
      "                              grow_policy=None, importance_type=None,\n",
      "                              interaction_constraints=None, learning_rate=0.08,\n",
      "                              max_bin=None, max_cat_threshold=None,\n",
      "                              max_cat_to_onehot=None, max_delta_step=None,\n",
      "                              max_depth=5, max_leaves=None, min_child_weight=75,\n",
      "                              missing=nan, monotone_constraints=None,\n",
      "                              n_estimators=350, n_jobs=None,\n",
      "                              num_parallel_tree=None, predictor=None,\n",
      "                              random_state=None, ...))])\n"
     ]
    }
   ],
   "source": [
    "pars = {\n",
    "        'model__reg_alpha': [0.1],\n",
    "        'model__max_depth': [5], \n",
    "        'model__gamma': [0],\n",
    "        'model__reg_lambda': [0.0001],\n",
    "        'model__learning_rate': [0.08],\n",
    "        'model__min_child_weight': [75],\n",
    "        'model__n_estimators': [350],\n",
    "        'model__colsample_bytree': [0.55], \n",
    "        'model__colsample_bylevel': [0.5],\n",
    "        'model__colsample_bynode': [0.8]\n",
    "        }\n",
    "grid_results = GridSearchCV(pipe, pars, cv = 5, scoring = 'neg_root_mean_squared_error').fit(train_ames_X, train_ames_y)\n",
    "print(grid_results.best_estimator_)\n"
   ]
  },
  {
   "cell_type": "code",
   "execution_count": 297,
   "metadata": {},
   "outputs": [
    {
     "name": "stdout",
     "output_type": "stream",
     "text": [
      "-25961.356565980994\n"
     ]
    },
    {
     "data": {
      "text/html": [
       "<style>#sk-container-id-92 {color: black;background-color: white;}#sk-container-id-92 pre{padding: 0;}#sk-container-id-92 div.sk-toggleable {background-color: white;}#sk-container-id-92 label.sk-toggleable__label {cursor: pointer;display: block;width: 100%;margin-bottom: 0;padding: 0.3em;box-sizing: border-box;text-align: center;}#sk-container-id-92 label.sk-toggleable__label-arrow:before {content: \"▸\";float: left;margin-right: 0.25em;color: #696969;}#sk-container-id-92 label.sk-toggleable__label-arrow:hover:before {color: black;}#sk-container-id-92 div.sk-estimator:hover label.sk-toggleable__label-arrow:before {color: black;}#sk-container-id-92 div.sk-toggleable__content {max-height: 0;max-width: 0;overflow: hidden;text-align: left;background-color: #f0f8ff;}#sk-container-id-92 div.sk-toggleable__content pre {margin: 0.2em;color: black;border-radius: 0.25em;background-color: #f0f8ff;}#sk-container-id-92 input.sk-toggleable__control:checked~div.sk-toggleable__content {max-height: 200px;max-width: 100%;overflow: auto;}#sk-container-id-92 input.sk-toggleable__control:checked~label.sk-toggleable__label-arrow:before {content: \"▾\";}#sk-container-id-92 div.sk-estimator input.sk-toggleable__control:checked~label.sk-toggleable__label {background-color: #d4ebff;}#sk-container-id-92 div.sk-label input.sk-toggleable__control:checked~label.sk-toggleable__label {background-color: #d4ebff;}#sk-container-id-92 input.sk-hidden--visually {border: 0;clip: rect(1px 1px 1px 1px);clip: rect(1px, 1px, 1px, 1px);height: 1px;margin: -1px;overflow: hidden;padding: 0;position: absolute;width: 1px;}#sk-container-id-92 div.sk-estimator {font-family: monospace;background-color: #f0f8ff;border: 1px dotted black;border-radius: 0.25em;box-sizing: border-box;margin-bottom: 0.5em;}#sk-container-id-92 div.sk-estimator:hover {background-color: #d4ebff;}#sk-container-id-92 div.sk-parallel-item::after {content: \"\";width: 100%;border-bottom: 1px solid gray;flex-grow: 1;}#sk-container-id-92 div.sk-label:hover label.sk-toggleable__label {background-color: #d4ebff;}#sk-container-id-92 div.sk-serial::before {content: \"\";position: absolute;border-left: 1px solid gray;box-sizing: border-box;top: 0;bottom: 0;left: 50%;z-index: 0;}#sk-container-id-92 div.sk-serial {display: flex;flex-direction: column;align-items: center;background-color: white;padding-right: 0.2em;padding-left: 0.2em;position: relative;}#sk-container-id-92 div.sk-item {position: relative;z-index: 1;}#sk-container-id-92 div.sk-parallel {display: flex;align-items: stretch;justify-content: center;background-color: white;position: relative;}#sk-container-id-92 div.sk-item::before, #sk-container-id-92 div.sk-parallel-item::before {content: \"\";position: absolute;border-left: 1px solid gray;box-sizing: border-box;top: 0;bottom: 0;left: 50%;z-index: -1;}#sk-container-id-92 div.sk-parallel-item {display: flex;flex-direction: column;z-index: 1;position: relative;background-color: white;}#sk-container-id-92 div.sk-parallel-item:first-child::after {align-self: flex-end;width: 50%;}#sk-container-id-92 div.sk-parallel-item:last-child::after {align-self: flex-start;width: 50%;}#sk-container-id-92 div.sk-parallel-item:only-child::after {width: 0;}#sk-container-id-92 div.sk-dashed-wrapped {border: 1px dashed gray;margin: 0 0.4em 0.5em 0.4em;box-sizing: border-box;padding-bottom: 0.4em;background-color: white;}#sk-container-id-92 div.sk-label label {font-family: monospace;font-weight: bold;display: inline-block;line-height: 1.2em;}#sk-container-id-92 div.sk-label-container {text-align: center;}#sk-container-id-92 div.sk-container {/* jupyter's `normalize.less` sets `[hidden] { display: none; }` but bootstrap.min.css set `[hidden] { display: none !important; }` so we also need the `!important` here to be able to override the default hidden behavior on the sphinx rendered scikit-learn.org. See: https://github.com/scikit-learn/scikit-learn/issues/21755 */display: inline-block !important;position: relative;}#sk-container-id-92 div.sk-text-repr-fallback {display: none;}</style><div id=\"sk-container-id-92\" class=\"sk-top-container\"><div class=\"sk-text-repr-fallback\"><pre>Pipeline(steps=[(&#x27;preprocessor&#x27;,\n",
       "                 ColumnTransformer(transformers=[(&#x27;num&#x27;,\n",
       "                                                  Pipeline(steps=[(&#x27;scaler&#x27;,\n",
       "                                                                   RobustScaler()),\n",
       "                                                                  (&#x27;transformer&#x27;,\n",
       "                                                                   PowerTransformer()),\n",
       "                                                                  (&#x27;imputation&#x27;,\n",
       "                                                                   KNNImputer(n_neighbors=100))]),\n",
       "                                                  Index([&#x27;Lot.Frontage&#x27;, &#x27;Lot.Area&#x27;, &#x27;Overall.Qual&#x27;, &#x27;Overall.Cond&#x27;,\n",
       "       &#x27;Year.Built&#x27;, &#x27;Year.Remod.Add&#x27;, &#x27;Mas.Vnr.Area&#x27;, &#x27;BsmtFin.SF.1&#x27;,\n",
       "       &#x27;BsmtFin.SF.2&#x27;, &#x27;Bsmt.Unf.SF&#x27;, &#x27;Tota...\n",
       "                              feature_types=None, gamma=0, gpu_id=None,\n",
       "                              grow_policy=None, importance_type=None,\n",
       "                              interaction_constraints=None, learning_rate=0.08,\n",
       "                              max_bin=None, max_cat_threshold=None,\n",
       "                              max_cat_to_onehot=None, max_delta_step=None,\n",
       "                              max_depth=5, max_leaves=None, min_child_weight=75,\n",
       "                              missing=nan, monotone_constraints=None,\n",
       "                              n_estimators=350, n_jobs=None,\n",
       "                              num_parallel_tree=None, predictor=None,\n",
       "                              random_state=None, ...))])</pre><b>In a Jupyter environment, please rerun this cell to show the HTML representation or trust the notebook. <br />On GitHub, the HTML representation is unable to render, please try loading this page with nbviewer.org.</b></div><div class=\"sk-container\" hidden><div class=\"sk-item sk-dashed-wrapped\"><div class=\"sk-label-container\"><div class=\"sk-label sk-toggleable\"><input class=\"sk-toggleable__control sk-hidden--visually\" id=\"sk-estimator-id-735\" type=\"checkbox\" ><label for=\"sk-estimator-id-735\" class=\"sk-toggleable__label sk-toggleable__label-arrow\">Pipeline</label><div class=\"sk-toggleable__content\"><pre>Pipeline(steps=[(&#x27;preprocessor&#x27;,\n",
       "                 ColumnTransformer(transformers=[(&#x27;num&#x27;,\n",
       "                                                  Pipeline(steps=[(&#x27;scaler&#x27;,\n",
       "                                                                   RobustScaler()),\n",
       "                                                                  (&#x27;transformer&#x27;,\n",
       "                                                                   PowerTransformer()),\n",
       "                                                                  (&#x27;imputation&#x27;,\n",
       "                                                                   KNNImputer(n_neighbors=100))]),\n",
       "                                                  Index([&#x27;Lot.Frontage&#x27;, &#x27;Lot.Area&#x27;, &#x27;Overall.Qual&#x27;, &#x27;Overall.Cond&#x27;,\n",
       "       &#x27;Year.Built&#x27;, &#x27;Year.Remod.Add&#x27;, &#x27;Mas.Vnr.Area&#x27;, &#x27;BsmtFin.SF.1&#x27;,\n",
       "       &#x27;BsmtFin.SF.2&#x27;, &#x27;Bsmt.Unf.SF&#x27;, &#x27;Tota...\n",
       "                              feature_types=None, gamma=0, gpu_id=None,\n",
       "                              grow_policy=None, importance_type=None,\n",
       "                              interaction_constraints=None, learning_rate=0.08,\n",
       "                              max_bin=None, max_cat_threshold=None,\n",
       "                              max_cat_to_onehot=None, max_delta_step=None,\n",
       "                              max_depth=5, max_leaves=None, min_child_weight=75,\n",
       "                              missing=nan, monotone_constraints=None,\n",
       "                              n_estimators=350, n_jobs=None,\n",
       "                              num_parallel_tree=None, predictor=None,\n",
       "                              random_state=None, ...))])</pre></div></div></div><div class=\"sk-serial\"><div class=\"sk-item sk-dashed-wrapped\"><div class=\"sk-label-container\"><div class=\"sk-label sk-toggleable\"><input class=\"sk-toggleable__control sk-hidden--visually\" id=\"sk-estimator-id-736\" type=\"checkbox\" ><label for=\"sk-estimator-id-736\" class=\"sk-toggleable__label sk-toggleable__label-arrow\">preprocessor: ColumnTransformer</label><div class=\"sk-toggleable__content\"><pre>ColumnTransformer(transformers=[(&#x27;num&#x27;,\n",
       "                                 Pipeline(steps=[(&#x27;scaler&#x27;, RobustScaler()),\n",
       "                                                 (&#x27;transformer&#x27;,\n",
       "                                                  PowerTransformer()),\n",
       "                                                 (&#x27;imputation&#x27;,\n",
       "                                                  KNNImputer(n_neighbors=100))]),\n",
       "                                 Index([&#x27;Lot.Frontage&#x27;, &#x27;Lot.Area&#x27;, &#x27;Overall.Qual&#x27;, &#x27;Overall.Cond&#x27;,\n",
       "       &#x27;Year.Built&#x27;, &#x27;Year.Remod.Add&#x27;, &#x27;Mas.Vnr.Area&#x27;, &#x27;BsmtFin.SF.1&#x27;,\n",
       "       &#x27;BsmtFin.SF.2&#x27;, &#x27;Bsmt.Unf.SF&#x27;, &#x27;Total.Bsmt.SF&#x27;, &#x27;X1st.Flr.SF&#x27;,\n",
       "       &#x27;X2nd.F...\n",
       "       &#x27;Exterior.1st&#x27;, &#x27;Exterior.2nd&#x27;, &#x27;Mas.Vnr.Type&#x27;, &#x27;Exter.Qual&#x27;,\n",
       "       &#x27;Exter.Cond&#x27;, &#x27;Foundation&#x27;, &#x27;Bsmt.Qual&#x27;, &#x27;Bsmt.Cond&#x27;, &#x27;Bsmt.Exposure&#x27;,\n",
       "       &#x27;BsmtFin.Type.1&#x27;, &#x27;BsmtFin.Type.2&#x27;, &#x27;Heating&#x27;, &#x27;Heating.QC&#x27;,\n",
       "       &#x27;Central.Air&#x27;, &#x27;Electrical&#x27;, &#x27;Kitchen.Qual&#x27;, &#x27;Functional&#x27;,\n",
       "       &#x27;Garage.Type&#x27;, &#x27;Garage.Finish&#x27;, &#x27;Garage.Qual&#x27;, &#x27;Garage.Cond&#x27;,\n",
       "       &#x27;Paved.Drive&#x27;, &#x27;Sale.Type&#x27;, &#x27;Sale.Condition&#x27;],\n",
       "      dtype=&#x27;object&#x27;))])</pre></div></div></div><div class=\"sk-parallel\"><div class=\"sk-parallel-item\"><div class=\"sk-item\"><div class=\"sk-label-container\"><div class=\"sk-label sk-toggleable\"><input class=\"sk-toggleable__control sk-hidden--visually\" id=\"sk-estimator-id-737\" type=\"checkbox\" ><label for=\"sk-estimator-id-737\" class=\"sk-toggleable__label sk-toggleable__label-arrow\">num</label><div class=\"sk-toggleable__content\"><pre>Index([&#x27;Lot.Frontage&#x27;, &#x27;Lot.Area&#x27;, &#x27;Overall.Qual&#x27;, &#x27;Overall.Cond&#x27;,\n",
       "       &#x27;Year.Built&#x27;, &#x27;Year.Remod.Add&#x27;, &#x27;Mas.Vnr.Area&#x27;, &#x27;BsmtFin.SF.1&#x27;,\n",
       "       &#x27;BsmtFin.SF.2&#x27;, &#x27;Bsmt.Unf.SF&#x27;, &#x27;Total.Bsmt.SF&#x27;, &#x27;X1st.Flr.SF&#x27;,\n",
       "       &#x27;X2nd.Flr.SF&#x27;, &#x27;Low.Qual.Fin.SF&#x27;, &#x27;Gr.Liv.Area&#x27;, &#x27;Bsmt.Full.Bath&#x27;,\n",
       "       &#x27;Bsmt.Half.Bath&#x27;, &#x27;Full.Bath&#x27;, &#x27;Half.Bath&#x27;, &#x27;Bedroom.AbvGr&#x27;,\n",
       "       &#x27;Kitchen.AbvGr&#x27;, &#x27;TotRms.AbvGrd&#x27;, &#x27;Fireplaces&#x27;, &#x27;Garage.Yr.Blt&#x27;,\n",
       "       &#x27;Garage.Cars&#x27;, &#x27;Garage.Area&#x27;, &#x27;Wood.Deck.SF&#x27;, &#x27;Open.Porch.SF&#x27;,\n",
       "       &#x27;Enclosed.Porch&#x27;, &#x27;X3Ssn.Porch&#x27;, &#x27;Screen.Porch&#x27;, &#x27;Pool.Area&#x27;,\n",
       "       &#x27;Misc.Val&#x27;],\n",
       "      dtype=&#x27;object&#x27;)</pre></div></div></div><div class=\"sk-serial\"><div class=\"sk-item\"><div class=\"sk-serial\"><div class=\"sk-item\"><div class=\"sk-estimator sk-toggleable\"><input class=\"sk-toggleable__control sk-hidden--visually\" id=\"sk-estimator-id-738\" type=\"checkbox\" ><label for=\"sk-estimator-id-738\" class=\"sk-toggleable__label sk-toggleable__label-arrow\">RobustScaler</label><div class=\"sk-toggleable__content\"><pre>RobustScaler()</pre></div></div></div><div class=\"sk-item\"><div class=\"sk-estimator sk-toggleable\"><input class=\"sk-toggleable__control sk-hidden--visually\" id=\"sk-estimator-id-739\" type=\"checkbox\" ><label for=\"sk-estimator-id-739\" class=\"sk-toggleable__label sk-toggleable__label-arrow\">PowerTransformer</label><div class=\"sk-toggleable__content\"><pre>PowerTransformer()</pre></div></div></div><div class=\"sk-item\"><div class=\"sk-estimator sk-toggleable\"><input class=\"sk-toggleable__control sk-hidden--visually\" id=\"sk-estimator-id-740\" type=\"checkbox\" ><label for=\"sk-estimator-id-740\" class=\"sk-toggleable__label sk-toggleable__label-arrow\">KNNImputer</label><div class=\"sk-toggleable__content\"><pre>KNNImputer(n_neighbors=100)</pre></div></div></div></div></div></div></div></div><div class=\"sk-parallel-item\"><div class=\"sk-item\"><div class=\"sk-label-container\"><div class=\"sk-label sk-toggleable\"><input class=\"sk-toggleable__control sk-hidden--visually\" id=\"sk-estimator-id-741\" type=\"checkbox\" ><label for=\"sk-estimator-id-741\" class=\"sk-toggleable__label sk-toggleable__label-arrow\">cat</label><div class=\"sk-toggleable__content\"><pre>Index([&#x27;MS.Zoning&#x27;, &#x27;Street&#x27;, &#x27;Lot.Shape&#x27;, &#x27;Land.Contour&#x27;, &#x27;Utilities&#x27;,\n",
       "       &#x27;Lot.Config&#x27;, &#x27;Land.Slope&#x27;, &#x27;Neighborhood&#x27;, &#x27;Condition.1&#x27;,\n",
       "       &#x27;Condition.2&#x27;, &#x27;Bldg.Type&#x27;, &#x27;House.Style&#x27;, &#x27;Roof.Style&#x27;, &#x27;Roof.Matl&#x27;,\n",
       "       &#x27;Exterior.1st&#x27;, &#x27;Exterior.2nd&#x27;, &#x27;Mas.Vnr.Type&#x27;, &#x27;Exter.Qual&#x27;,\n",
       "       &#x27;Exter.Cond&#x27;, &#x27;Foundation&#x27;, &#x27;Bsmt.Qual&#x27;, &#x27;Bsmt.Cond&#x27;, &#x27;Bsmt.Exposure&#x27;,\n",
       "       &#x27;BsmtFin.Type.1&#x27;, &#x27;BsmtFin.Type.2&#x27;, &#x27;Heating&#x27;, &#x27;Heating.QC&#x27;,\n",
       "       &#x27;Central.Air&#x27;, &#x27;Electrical&#x27;, &#x27;Kitchen.Qual&#x27;, &#x27;Functional&#x27;,\n",
       "       &#x27;Garage.Type&#x27;, &#x27;Garage.Finish&#x27;, &#x27;Garage.Qual&#x27;, &#x27;Garage.Cond&#x27;,\n",
       "       &#x27;Paved.Drive&#x27;, &#x27;Sale.Type&#x27;, &#x27;Sale.Condition&#x27;],\n",
       "      dtype=&#x27;object&#x27;)</pre></div></div></div><div class=\"sk-serial\"><div class=\"sk-item\"><div class=\"sk-serial\"><div class=\"sk-item\"><div class=\"sk-estimator sk-toggleable\"><input class=\"sk-toggleable__control sk-hidden--visually\" id=\"sk-estimator-id-742\" type=\"checkbox\" ><label for=\"sk-estimator-id-742\" class=\"sk-toggleable__label sk-toggleable__label-arrow\">OneHotEncoder</label><div class=\"sk-toggleable__content\"><pre>OneHotEncoder(handle_unknown=&#x27;ignore&#x27;, sparse=False)</pre></div></div></div></div></div></div></div></div></div></div><div class=\"sk-item\"><div class=\"sk-estimator sk-toggleable\"><input class=\"sk-toggleable__control sk-hidden--visually\" id=\"sk-estimator-id-743\" type=\"checkbox\" ><label for=\"sk-estimator-id-743\" class=\"sk-toggleable__label sk-toggleable__label-arrow\">XGBRegressor</label><div class=\"sk-toggleable__content\"><pre>XGBRegressor(base_score=None, booster=None, callbacks=None,\n",
       "             colsample_bylevel=0.5, colsample_bynode=0.8, colsample_bytree=0.55,\n",
       "             early_stopping_rounds=None, enable_categorical=False,\n",
       "             eval_metric=None, feature_types=None, gamma=0, gpu_id=None,\n",
       "             grow_policy=None, importance_type=None,\n",
       "             interaction_constraints=None, learning_rate=0.08, max_bin=None,\n",
       "             max_cat_threshold=None, max_cat_to_onehot=None,\n",
       "             max_delta_step=None, max_depth=5, max_leaves=None,\n",
       "             min_child_weight=75, missing=nan, monotone_constraints=None,\n",
       "             n_estimators=350, n_jobs=None, num_parallel_tree=None,\n",
       "             predictor=None, random_state=None, ...)</pre></div></div></div></div></div></div></div>"
      ],
      "text/plain": [
       "Pipeline(steps=[('preprocessor',\n",
       "                 ColumnTransformer(transformers=[('num',\n",
       "                                                  Pipeline(steps=[('scaler',\n",
       "                                                                   RobustScaler()),\n",
       "                                                                  ('transformer',\n",
       "                                                                   PowerTransformer()),\n",
       "                                                                  ('imputation',\n",
       "                                                                   KNNImputer(n_neighbors=100))]),\n",
       "                                                  Index(['Lot.Frontage', 'Lot.Area', 'Overall.Qual', 'Overall.Cond',\n",
       "       'Year.Built', 'Year.Remod.Add', 'Mas.Vnr.Area', 'BsmtFin.SF.1',\n",
       "       'BsmtFin.SF.2', 'Bsmt.Unf.SF', 'Tota...\n",
       "                              feature_types=None, gamma=0, gpu_id=None,\n",
       "                              grow_policy=None, importance_type=None,\n",
       "                              interaction_constraints=None, learning_rate=0.08,\n",
       "                              max_bin=None, max_cat_threshold=None,\n",
       "                              max_cat_to_onehot=None, max_delta_step=None,\n",
       "                              max_depth=5, max_leaves=None, min_child_weight=75,\n",
       "                              missing=nan, monotone_constraints=None,\n",
       "                              n_estimators=350, n_jobs=None,\n",
       "                              num_parallel_tree=None, predictor=None,\n",
       "                              random_state=None, ...))])"
      ]
     },
     "execution_count": 297,
     "metadata": {},
     "output_type": "execute_result"
    }
   ],
   "source": [
    "print(grid_results.best_score_)\n",
    "grid_results.best_estimator_"
   ]
  },
  {
   "cell_type": "code",
   "execution_count": null,
   "metadata": {},
   "outputs": [],
   "source": []
  }
 ],
 "metadata": {
  "kernelspec": {
   "display_name": "Python 3 (ipykernel)",
   "language": "python",
   "name": "python3"
  },
  "language_info": {
   "codemirror_mode": {
    "name": "ipython",
    "version": 3
   },
   "file_extension": ".py",
   "mimetype": "text/x-python",
   "name": "python",
   "nbconvert_exporter": "python",
   "pygments_lexer": "ipython3",
   "version": "3.9.8"
  }
 },
 "nbformat": 4,
 "nbformat_minor": 2
}
